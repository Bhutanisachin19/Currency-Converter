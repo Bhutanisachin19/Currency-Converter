{
 "cells": [
  {
   "cell_type": "code",
   "execution_count": 1,
   "metadata": {},
   "outputs": [
    {
     "name": "stdout",
     "output_type": "stream",
     "text": [
      "Please enter the date (in the format 'yyyy-mm-dd') : 2020-04-12\n",
      "Convert from (currency): INR\n",
      "Convert to (currency): USD\n",
      "How much INR do you want to convert : 19\n",
      "\n",
      "19.0 INR is equal to 0.24898013249999998 USD, based upon exchange rates on 2020-04-09\n"
     ]
    }
   ],
   "source": [
    "#Creating a simple currency convertor\n",
    "#using exchange rate api\n",
    "\n",
    "base_url = \"https://api.exchangeratesapi.io\"\n",
    "import requests\n",
    "import json\n",
    "\n",
    "date = input(\"Please enter the date (in the format 'yyyy-mm-dd') : \")\n",
    "base = input(\"Convert from (currency): \")\n",
    "curr = input(\"Convert to (currency): \")\n",
    "quan = float(input(\"How much {} do you want to convert : \".format(base)))\n",
    "\n",
    "\n",
    "url = base_url + \"/\" + date + \"?base=\" + base + \"&symbols=\" +curr\n",
    "response = requests.get(url)\n",
    "\n",
    "if(response.ok is False):\n",
    "    print(\"\\nError {}:\".format(response.status_code))\n",
    "    #print(response.json()['error'])\n",
    "else:\n",
    "    data = response.json()\n",
    "    rate = data['rates'][curr]\n",
    "    result = quan*rate\n",
    "    \n",
    "    print(\"\\n{0} {1} is equal to {2} {3}, based upon exchange rates on {4}\".format(quan,base,result,curr,data['date']))\n"
   ]
  },
  {
   "cell_type": "code",
   "execution_count": null,
   "metadata": {},
   "outputs": [],
   "source": []
  }
 ],
 "metadata": {
  "kernelspec": {
   "display_name": "Python 3",
   "language": "python",
   "name": "python3"
  },
  "language_info": {
   "codemirror_mode": {
    "name": "ipython",
    "version": 3
   },
   "file_extension": ".py",
   "mimetype": "text/x-python",
   "name": "python",
   "nbconvert_exporter": "python",
   "pygments_lexer": "ipython3",
   "version": "3.7.6"
  }
 },
 "nbformat": 4,
 "nbformat_minor": 4
}
